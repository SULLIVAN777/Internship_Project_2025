{
 "cells": [
  {
   "cell_type": "code",
   "execution_count": 10,
   "id": "61621d59",
   "metadata": {},
   "outputs": [],
   "source": [
    "import random"
   ]
  },
  {
   "cell_type": "code",
   "execution_count": 11,
   "id": "64e19dcc",
   "metadata": {},
   "outputs": [],
   "source": [
    "import math"
   ]
  },
  {
   "cell_type": "code",
   "execution_count": 12,
   "id": "e22c1767",
   "metadata": {},
   "outputs": [
    {
     "name": "stdout",
     "output_type": "stream",
     "text": [
      "Sorry try again, number too low\n",
      "Sorry, Try again, too high\n",
      "Sorry try again, number too low\n",
      "Yay congrats, you picked the numeber 80\n"
     ]
    }
   ],
   "source": [
    "\n",
    "def guess(x):\n",
    "\trandom_number = random.randint(1,x)\n",
    "\tguess = 0\n",
    "\twhile guess != random_number:\n",
    "\t\tguess = int(input(f'Guess a number between 1 and {x}'))\n",
    "\t\tif guess > random_number:\n",
    "\t\t\tprint(\"Sorry, Try again, too high\")\n",
    "\t\tif guess < random_number:\n",
    "\t\t\tprint(\"Sorry try again, number too low\")\n",
    "\tprint(f\"Yay congrats, you picked the numeber {guess}\")\n",
    "\n",
    "\n",
    "guess(100)"
   ]
  },
  {
   "cell_type": "code",
   "execution_count": 9,
   "id": "619bf067",
   "metadata": {},
   "outputs": [],
   "source": [
    "import random"
   ]
  },
  {
   "cell_type": "code",
   "execution_count": 10,
   "id": "efab06cc",
   "metadata": {},
   "outputs": [],
   "source": [
    "import math"
   ]
  },
  {
   "cell_type": "code",
   "execution_count": 2,
   "id": "1c478def",
   "metadata": {},
   "outputs": [
    {
     "ename": "NameError",
     "evalue": "name 'random' is not defined",
     "output_type": "error",
     "traceback": [
      "\u001b[31m---------------------------------------------------------------------------\u001b[39m",
      "\u001b[31mNameError\u001b[39m                                 Traceback (most recent call last)",
      "\u001b[36mCell\u001b[39m\u001b[36m \u001b[39m\u001b[32mIn[2]\u001b[39m\u001b[32m, line 13\u001b[39m\n\u001b[32m      9\u001b[39m \t\t\t\u001b[38;5;28mprint\u001b[39m(\u001b[33m\"\u001b[39m\u001b[33mToo low\u001b[39m\u001b[33m\"\u001b[39m)\n\u001b[32m     10\u001b[39m \t\u001b[38;5;28mprint\u001b[39m(\u001b[33mf\u001b[39m\u001b[33m\"\u001b[39m\u001b[33mcongrats you picked the number \u001b[39m\u001b[38;5;132;01m{\u001b[39;00mguess\u001b[38;5;132;01m}\u001b[39;00m\u001b[33m\"\u001b[39m)\n\u001b[32m---> \u001b[39m\u001b[32m13\u001b[39m \u001b[43mguess\u001b[49m\u001b[43m \u001b[49m\u001b[43m(\u001b[49m\u001b[32;43m10\u001b[39;49m\u001b[43m)\u001b[49m\n",
      "\u001b[36mCell\u001b[39m\u001b[36m \u001b[39m\u001b[32mIn[2]\u001b[39m\u001b[32m, line 2\u001b[39m, in \u001b[36mguess\u001b[39m\u001b[34m(x)\u001b[39m\n\u001b[32m      1\u001b[39m \u001b[38;5;28;01mdef\u001b[39;00m\u001b[38;5;250m \u001b[39m\u001b[34mguess\u001b[39m(x):\n\u001b[32m----> \u001b[39m\u001b[32m2\u001b[39m \trandom_number = \u001b[43mrandom\u001b[49m.randint(\u001b[32m1\u001b[39m,x)\n\u001b[32m      3\u001b[39m \tguess = \u001b[32m0\u001b[39m\n\u001b[32m      4\u001b[39m \t\u001b[38;5;28;01mwhile\u001b[39;00m guess != random_number:\n",
      "\u001b[31mNameError\u001b[39m: name 'random' is not defined"
     ]
    }
   ],
   "source": [
    "def guess(x):\n",
    "\trandom_number = random.randint(1,x)\n",
    "\tguess = 0\n",
    "\twhile guess != random_number:\n",
    "\t\tguess = int(input(f\"Guess a number between 1 and {x}\"))\n",
    "\t\tif guess > random_number:\n",
    "\t\t\tprint(\"Too high\")\n",
    "\t\tif guess < random_number:\n",
    "\t\t\tprint(\"Too low\")\n",
    "\tprint(f\"congrats you picked the number {guess}\")\n",
    "\n",
    "\n",
    "guess (10)"
   ]
  },
  {
   "cell_type": "code",
   "execution_count": 22,
   "id": "b110ca4a",
   "metadata": {},
   "outputs": [],
   "source": [
    "import random"
   ]
  },
  {
   "cell_type": "code",
   "execution_count": 1,
   "id": "2b57c237",
   "metadata": {},
   "outputs": [
    {
     "ename": "NameError",
     "evalue": "name 'random' is not defined",
     "output_type": "error",
     "traceback": [
      "\u001b[31m---------------------------------------------------------------------------\u001b[39m",
      "\u001b[31mNameError\u001b[39m                                 Traceback (most recent call last)",
      "\u001b[36mCell\u001b[39m\u001b[36m \u001b[39m\u001b[32mIn[1]\u001b[39m\u001b[32m, line 11\u001b[39m\n\u001b[32m      9\u001b[39m \t\t\t\u001b[38;5;28mprint\u001b[39m(\u001b[33m\"\u001b[39m\u001b[33mToo Low\u001b[39m\u001b[33m\"\u001b[39m)\n\u001b[32m     10\u001b[39m \t\u001b[38;5;28mprint\u001b[39m(\u001b[33mf\u001b[39m\u001b[33m\"\u001b[39m\u001b[33mCongratulations, you are the best and chose the right number which is \u001b[39m\u001b[38;5;132;01m{\u001b[39;00mguess\u001b[38;5;132;01m}\u001b[39;00m\u001b[33m\"\u001b[39m)\n\u001b[32m---> \u001b[39m\u001b[32m11\u001b[39m \u001b[43mguess\u001b[49m\u001b[43m(\u001b[49m\u001b[32;43m10\u001b[39;49m\u001b[43m)\u001b[49m\n",
      "\u001b[36mCell\u001b[39m\u001b[36m \u001b[39m\u001b[32mIn[1]\u001b[39m\u001b[32m, line 2\u001b[39m, in \u001b[36mguess\u001b[39m\u001b[34m(x)\u001b[39m\n\u001b[32m      1\u001b[39m \u001b[38;5;28;01mdef\u001b[39;00m\u001b[38;5;250m \u001b[39m\u001b[34mguess\u001b[39m(x):\n\u001b[32m----> \u001b[39m\u001b[32m2\u001b[39m \trandom_number = \u001b[43mrandom\u001b[49m.randint(\u001b[32m1\u001b[39m,x)\n\u001b[32m      3\u001b[39m \tguess = \u001b[32m0\u001b[39m\n\u001b[32m      4\u001b[39m \t\u001b[38;5;28;01mwhile\u001b[39;00m guess != random_number:\n",
      "\u001b[31mNameError\u001b[39m: name 'random' is not defined"
     ]
    }
   ],
   "source": [
    "def guess(x):\n",
    "\trandom_number = random.randint(1,x)\n",
    "\tguess = 0\n",
    "\twhile guess != random_number:\n",
    "\t\tguess = int(input(f\"Guess any number between 1 and {x}\"))\n",
    "\t\tif guess > random_number:\n",
    "\t\t\tprint(\"Too High\")\n",
    "\t\tif guess < random_number:\n",
    "\t\t\tprint(\"Too Low\")\n",
    "\tprint(f\"Congratulations, you are the best and chose the right number which is {guess}\")\n",
    "guess(10)"
   ]
  },
  {
   "cell_type": "code",
   "execution_count": null,
   "id": "5d230f28",
   "metadata": {},
   "outputs": [],
   "source": []
  }
 ],
 "metadata": {
  "kernelspec": {
   "display_name": "Python 3",
   "language": "python",
   "name": "python3"
  },
  "language_info": {
   "codemirror_mode": {
    "name": "ipython",
    "version": 3
   },
   "file_extension": ".py",
   "mimetype": "text/x-python",
   "name": "python",
   "nbconvert_exporter": "python",
   "pygments_lexer": "ipython3",
   "version": "3.11.9"
  }
 },
 "nbformat": 4,
 "nbformat_minor": 5
}
