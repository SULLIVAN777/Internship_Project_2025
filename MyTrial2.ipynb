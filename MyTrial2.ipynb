{
 "cells": [
  {
   "cell_type": "code",
   "execution_count": 21,
   "id": "b851502c",
   "metadata": {},
   "outputs": [
    {
     "name": "stdout",
     "output_type": "stream",
     "text": [
      "Requirement already satisfied: pandas in c:\\users\\ssk\\appdata\\local\\packages\\pythonsoftwarefoundation.python.3.11_qbz5n2kfra8p0\\localcache\\local-packages\\python311\\site-packages (2.3.0)\n",
      "Requirement already satisfied: numpy>=1.23.2 in c:\\users\\ssk\\appdata\\local\\packages\\pythonsoftwarefoundation.python.3.11_qbz5n2kfra8p0\\localcache\\local-packages\\python311\\site-packages (from pandas) (2.3.1)\n",
      "Requirement already satisfied: python-dateutil>=2.8.2 in c:\\users\\ssk\\appdata\\local\\packages\\pythonsoftwarefoundation.python.3.11_qbz5n2kfra8p0\\localcache\\local-packages\\python311\\site-packages (from pandas) (2.9.0.post0)\n",
      "Requirement already satisfied: pytz>=2020.1 in c:\\users\\ssk\\appdata\\local\\packages\\pythonsoftwarefoundation.python.3.11_qbz5n2kfra8p0\\localcache\\local-packages\\python311\\site-packages (from pandas) (2025.2)\n",
      "Requirement already satisfied: tzdata>=2022.7 in c:\\users\\ssk\\appdata\\local\\packages\\pythonsoftwarefoundation.python.3.11_qbz5n2kfra8p0\\localcache\\local-packages\\python311\\site-packages (from pandas) (2025.2)\n",
      "Requirement already satisfied: six>=1.5 in c:\\users\\ssk\\appdata\\local\\packages\\pythonsoftwarefoundation.python.3.11_qbz5n2kfra8p0\\localcache\\local-packages\\python311\\site-packages (from python-dateutil>=2.8.2->pandas) (1.17.0)\n",
      "Note: you may need to restart the kernel to use updated packages.\n"
     ]
    },
    {
     "name": "stderr",
     "output_type": "stream",
     "text": [
      "\n",
      "[notice] A new release of pip is available: 24.0 -> 25.1.1\n",
      "[notice] To update, run: C:\\Users\\ssk\\AppData\\Local\\Microsoft\\WindowsApps\\PythonSoftwareFoundation.Python.3.11_qbz5n2kfra8p0\\python.exe -m pip install --upgrade pip\n"
     ]
    }
   ],
   "source": [
    "%pip install pandas"
   ]
  },
  {
   "cell_type": "code",
   "execution_count": 22,
   "id": "467b2a6f",
   "metadata": {},
   "outputs": [],
   "source": [
    "import numpy as np\n",
    "import MDAnalysis as md\n",
    "import pandas as pd\n",
    "from io import StringIO"
   ]
  },
  {
   "cell_type": "code",
   "execution_count": 4,
   "id": "7e9eb833",
   "metadata": {},
   "outputs": [
    {
     "name": "stderr",
     "output_type": "stream",
     "text": [
      "C:\\Users\\ssk\\AppData\\Local\\Packages\\PythonSoftwareFoundation.Python.3.11_qbz5n2kfra8p0\\LocalCache\\local-packages\\Python311\\site-packages\\MDAnalysis\\topology\\PDBParser.py:350: UserWarning: Element information is missing, elements attribute will not be populated. If needed these can be guessed using universe.guess_TopologyAttrs(context='default', to_guess=['elements']).\n",
      "  warnings.warn(\"Element information is missing, elements attribute \"\n"
     ]
    }
   ],
   "source": [
    "POS = md.Universe('WaterBox.pdb')"
   ]
  },
  {
   "cell_type": "code",
   "execution_count": 23,
   "id": "e5df7d15",
   "metadata": {},
   "outputs": [],
   "source": [
    "\n",
    "colspecs = [(0,6), (6,11), (12,16), (17,20), (21,22), (22,26), (30,38), (38,46), (46,54)]\n",
    "column_names = ['record', 'atom_number', 'atom_name', 'residue_name', 'chain_id', 'residue_number', 'x', 'y', 'z']\n",
    "\n",
    "with open(\"WaterBox.pdb\") as file:\n",
    "    lines = [line for line in file if line.startswith((\"ATOM\", \"HETATM\"))]\n",
    "\n",
    "from io import StringIO\n",
    "data_string = StringIO(\"\".join(lines))\n",
    "\n",
    "data = pd.read_fwf(data_string, colspecs=colspecs, names=column_names)\n",
    "\n",
    "oxygen = data[data['atom_name'].str.strip() == 'OH2']\n"
   ]
  },
  {
   "cell_type": "code",
   "execution_count": 24,
   "id": "26df9a80",
   "metadata": {},
   "outputs": [
    {
     "name": "stdout",
     "output_type": "stream",
     "text": [
      "   record  atom_number atom_name residue_name  chain_id  residue_number  \\\n",
      "0    ATOM            1       OH2          SPC       NaN               1   \n",
      "3    ATOM            4       OH2          SPC       NaN               2   \n",
      "6    ATOM            7       OH2          SPC       NaN               3   \n",
      "9    ATOM           10       OH2          SPC       NaN               4   \n",
      "12   ATOM           13       OH2          SPC       NaN               5   \n",
      "\n",
      "         x       y       z  \n",
      "0    7.202  -0.549  10.503  \n",
      "3  -11.530 -10.058 -12.176  \n",
      "6   11.978  -0.964   2.591  \n",
      "9    8.655   9.863 -10.434  \n",
      "12  10.640  11.630   4.200  \n",
      "     atom_name       x       y       z\n",
      "0          OH2   7.202  -0.549  10.503\n",
      "3          OH2 -11.530 -10.058 -12.176\n",
      "6          OH2  11.978  -0.964   2.591\n",
      "9          OH2   8.655   9.863 -10.434\n",
      "12         OH2  10.640  11.630   4.200\n",
      "...        ...     ...     ...     ...\n",
      "1521       OH2 -11.062  -7.419   6.898\n",
      "1524       OH2 -14.467  10.823  -1.110\n",
      "1527       OH2  -4.104  -8.439   5.728\n",
      "1530       OH2  -1.794  10.121  -5.583\n",
      "1533       OH2   8.134  -5.881  -4.124\n",
      "\n",
      "[512 rows x 4 columns]\n"
     ]
    }
   ],
   "source": [
    "print(oxygen.head())\n",
    "print(oxygen[['atom_name', 'x', 'y', 'z']])"
   ]
  },
  {
   "cell_type": "code",
   "execution_count": 25,
   "id": "4fd1dbaf",
   "metadata": {},
   "outputs": [
    {
     "data": {
      "text/plain": [
       "array([[ 7.202, -0.549, 10.503],\n",
       "       [ 7.541, -0.426, 11.436],\n",
       "       [ 7.565,  0.178,  9.92 ],\n",
       "       ...,\n",
       "       [ 8.134, -5.881, -4.124],\n",
       "       [ 8.484, -6.663, -4.638],\n",
       "       [ 8.187, -6.076, -3.144]], shape=(1536, 3), dtype=float32)"
      ]
     },
     "execution_count": 25,
     "metadata": {},
     "output_type": "execute_result"
    }
   ],
   "source": [
    "POS.atoms.positions"
   ]
  },
  {
   "cell_type": "code",
   "execution_count": 27,
   "id": "e8e15b21",
   "metadata": {},
   "outputs": [
    {
     "data": {
      "text/plain": [
       "('segment', 'U6')"
      ]
     },
     "execution_count": 27,
     "metadata": {},
     "output_type": "execute_result"
    }
   ],
   "source": [
    "\n",
    "('record','U6'),\n",
    "('atom_id','i4'),\n",
    "('atom_name','U4'),\n",
    "('res_name','U4'),\n",
    "('res_id','i4'),\n",
    "('x','f8'),\n",
    "('y','f8'),\n",
    "('z','f8'),\n",
    "('occupancy','f8'),\n",
    "('temp_factor','f8'),\n",
    "('segment','U6')"
   ]
  },
  {
   "cell_type": "code",
   "execution_count": 28,
   "id": "712cffbd",
   "metadata": {},
   "outputs": [],
   "source": [
    "dtype=[\n",
    "    ('record','U6'),\n",
    "    ('atom_id','i4'),\n",
    "    ('atom_name','U4'),\n",
    "    ('res_name','U4'),\n",
    "    ('res_id','i4'),\n",
    "    ('x','f8'),\n",
    "    ('y','f8'),\n",
    "    ('z','f8'),\n",
    "    ('occupancy','f8'),\n",
    "    ('temp_factor','f8'),\n",
    "    ('segment','U6')\n",
    "]"
   ]
  },
  {
   "cell_type": "code",
   "execution_count": 29,
   "id": "14762947",
   "metadata": {},
   "outputs": [],
   "source": [
    "data = np.genfromtxt(\n",
    "    open('WaterBox.pdb','r'),\n",
    "    dtype=dtype,\n",
    "    autostrip=True\n",
    ")"
   ]
  },
  {
   "cell_type": "code",
   "execution_count": 30,
   "id": "468ab67b",
   "metadata": {},
   "outputs": [
    {
     "name": "stdout",
     "output_type": "stream",
     "text": [
      "[('ATOM',    1, 'OH2', 'SPCE',   1, 7.202, -0.549, 10.503, 0., 0., 'SOLV')\n",
      " ('ATOM',    2, 'H1', 'SPCE',   1, 7.541, -0.426, 11.436, 0., 0., 'SOLV')\n",
      " ('ATOM',    3, 'H2', 'SPCE',   1, 7.565,  0.178,  9.92 , 0., 0., 'SOLV')\n",
      " ...\n",
      " ('ATOM', 1534, 'OH2', 'SPCE', 512, 8.134, -5.881, -4.124, 0., 0., 'SOLV')\n",
      " ('ATOM', 1535, 'H1', 'SPCE', 512, 8.484, -6.663, -4.638, 0., 0., 'SOLV')\n",
      " ('ATOM', 1536, 'H2', 'SPCE', 512, 8.187, -6.076, -3.144, 0., 0., 'SOLV')]\n"
     ]
    }
   ],
   "source": [
    "print (data)"
   ]
  },
  {
   "cell_type": "code",
   "execution_count": 31,
   "id": "9e8bcd57",
   "metadata": {},
   "outputs": [
    {
     "data": {
      "text/plain": [
       "(array([7.202, 7.541, 7.565, ..., 8.134, 8.484, 8.187], shape=(1536,)),\n",
       " array([-0.549, -0.426,  0.178, ..., -5.881, -6.663, -6.076], shape=(1536,)),\n",
       " array([10.503, 11.436,  9.92 , ..., -4.124, -4.638, -3.144], shape=(1536,)))"
      ]
     },
     "execution_count": 31,
     "metadata": {},
     "output_type": "execute_result"
    }
   ],
   "source": [
    "data['x'], data['y'], data['z']"
   ]
  },
  {
   "cell_type": "code",
   "execution_count": 32,
   "id": "5618c69c",
   "metadata": {},
   "outputs": [
    {
     "data": {
      "text/plain": [
       "numpy.ndarray"
      ]
     },
     "execution_count": 32,
     "metadata": {},
     "output_type": "execute_result"
    }
   ],
   "source": [
    "np.ndarray "
   ]
  },
  {
   "cell_type": "code",
   "execution_count": 34,
   "id": "92d22b89",
   "metadata": {},
   "outputs": [],
   "source": [
    "data = pd.read_csv(\"WaterBox.pdb\")"
   ]
  },
  {
   "cell_type": "code",
   "execution_count": 35,
   "id": "5a79c84b",
   "metadata": {},
   "outputs": [
    {
     "data": {
      "text/plain": [
       "0        7.202\n",
       "3      -11.530\n",
       "6       11.978\n",
       "9        8.655\n",
       "12      10.640\n",
       "         ...  \n",
       "1521   -11.062\n",
       "1524   -14.467\n",
       "1527    -4.104\n",
       "1530    -1.794\n",
       "1533     8.134\n",
       "Name: x, Length: 512, dtype: float64"
      ]
     },
     "execution_count": 35,
     "metadata": {},
     "output_type": "execute_result"
    }
   ],
   "source": [
    "oxygen['x']"
   ]
  },
  {
   "cell_type": "code",
   "execution_count": 36,
   "id": "55571bce",
   "metadata": {},
   "outputs": [],
   "source": [
    "arr = np.array([oxygen['x']])\n",
    "min_val = np.min(arr)\n",
    "max_val = np.max(arr)"
   ]
  },
  {
   "cell_type": "code",
   "execution_count": 37,
   "id": "7b42e621",
   "metadata": {},
   "outputs": [
    {
     "name": "stdout",
     "output_type": "stream",
     "text": [
      "-14.467\n"
     ]
    }
   ],
   "source": [
    "print(min_val)"
   ]
  },
  {
   "cell_type": "code",
   "execution_count": 38,
   "id": "de4a7c5d",
   "metadata": {},
   "outputs": [
    {
     "name": "stdout",
     "output_type": "stream",
     "text": [
      "13.532\n"
     ]
    }
   ],
   "source": [
    "print(max_val)"
   ]
  },
  {
   "cell_type": "code",
   "execution_count": 40,
   "id": "324598db",
   "metadata": {},
   "outputs": [],
   "source": [
    "O2H=oxygen['x']"
   ]
  },
  {
   "cell_type": "code",
   "execution_count": 42,
   "id": "e7d2348c",
   "metadata": {},
   "outputs": [],
   "source": [
    "x= O2H"
   ]
  },
  {
   "cell_type": "code",
   "execution_count": 43,
   "id": "5c4f3a2c",
   "metadata": {},
   "outputs": [
    {
     "data": {
      "text/plain": [
       "0        7.202\n",
       "3      -11.530\n",
       "6       11.978\n",
       "9        8.655\n",
       "12      10.640\n",
       "         ...  \n",
       "1521   -11.062\n",
       "1524   -14.467\n",
       "1527    -4.104\n",
       "1530    -1.794\n",
       "1533     8.134\n",
       "Name: x, Length: 512, dtype: float64"
      ]
     },
     "execution_count": 43,
     "metadata": {},
     "output_type": "execute_result"
    }
   ],
   "source": [
    "x"
   ]
  },
  {
   "cell_type": "code",
   "execution_count": 63,
   "id": "4c43a8f4",
   "metadata": {},
   "outputs": [
    {
     "data": {
      "text/plain": [
       "7"
      ]
     },
     "execution_count": 63,
     "metadata": {},
     "output_type": "execute_result"
    }
   ],
   "source": [
    "binwidth = 1.0\n",
    "int(x[0]/binwidth)"
   ]
  },
  {
   "cell_type": "code",
   "execution_count": 70,
   "id": "09ef8d7a",
   "metadata": {},
   "outputs": [
    {
     "name": "stdout",
     "output_type": "stream",
     "text": [
      "0 7.202 8\n",
      "1 -11.53 -10\n",
      "2 11.978 12\n",
      "3 8.655 9\n",
      "4 10.64 11\n",
      "5 -2.794 -1\n",
      "6 -8.605 -7\n",
      "7 -4.761 -3\n",
      "8 -11.259 -10\n",
      "9 2.354 3\n",
      "10 -7.304 -6\n",
      "11 -11.819 -10\n",
      "12 8.043 9\n"
     ]
    }
   ],
   "source": [
    "for i in range(int(max_val)):\n",
    "    print(i, x.iloc[i], 1 + int(x.iloc[i] / binwidth))"
   ]
  },
  {
   "cell_type": "code",
   "execution_count": 72,
   "id": "e83c11c2",
   "metadata": {},
   "outputs": [
    {
     "name": "stdout",
     "output_type": "stream",
     "text": [
      "0 7.202 → bin 8\n",
      "1 -11.53 → bin -10\n",
      "2 11.978 → bin 12\n",
      "3 8.655 → bin 9\n",
      "4 10.64 → bin 11\n",
      "5 -2.794 → bin -1\n",
      "6 -8.605 → bin -7\n",
      "7 -4.761 → bin -3\n",
      "8 -11.259 → bin -10\n",
      "9 2.354 → bin 3\n",
      "10 -7.304 → bin -6\n",
      "11 -11.819 → bin -10\n",
      "12 8.043 → bin 9\n",
      "13 3.595 → bin 4\n",
      "14 1.346 → bin 2\n",
      "15 3.581 → bin 4\n",
      "16 -11.397 → bin -10\n",
      "17 8.486 → bin 9\n",
      "18 12.497 → bin 13\n",
      "19 -12.587 → bin -11\n",
      "20 -6.196 → bin -5\n",
      "21 5.714 → bin 6\n",
      "22 2.329 → bin 3\n",
      "23 -12.146 → bin -11\n",
      "24 -0.344 → bin 1\n",
      "25 5.865 → bin 6\n",
      "26 -12.181 → bin -11\n",
      "27 0.183 → bin 1\n",
      "28 12.92 → bin 13\n",
      "29 -1.62 → bin 0\n",
      "30 -2.483 → bin -1\n",
      "31 -1.893 → bin 0\n",
      "32 -8.777 → bin -7\n",
      "33 -6.185 → bin -5\n",
      "34 5.4 → bin 6\n",
      "35 3.249 → bin 4\n",
      "36 -8.919 → bin -7\n",
      "37 11.321 → bin 12\n",
      "38 -10.85 → bin -9\n",
      "39 10.719 → bin 11\n",
      "40 0.628 → bin 1\n",
      "41 -10.915 → bin -9\n",
      "42 5.023 → bin 6\n",
      "43 11.478 → bin 12\n",
      "44 9.941 → bin 10\n",
      "45 7.864 → bin 8\n",
      "46 -9.12 → bin -8\n",
      "47 7.88 → bin 8\n",
      "48 -8.068 → bin -7\n",
      "49 -6.924 → bin -5\n",
      "50 10.358 → bin 11\n",
      "51 -2.978 → bin -1\n",
      "52 -9.326 → bin -8\n",
      "53 -12.43 → bin -11\n",
      "54 -5.473 → bin -4\n",
      "55 -10.634 → bin -9\n",
      "56 -5.723 → bin -4\n",
      "57 8.023 → bin 9\n",
      "58 -12.283 → bin -11\n",
      "59 -11.819 → bin -10\n",
      "60 -8.641 → bin -7\n",
      "61 12.241 → bin 13\n",
      "62 -0.301 → bin 1\n",
      "63 -5.919 → bin -4\n",
      "64 -8.537 → bin -7\n",
      "65 -5.78 → bin -4\n",
      "66 4.045 → bin 5\n",
      "67 1.125 → bin 2\n",
      "68 6.782 → bin 7\n",
      "69 6.344 → bin 7\n",
      "70 -8.577 → bin -7\n",
      "71 2.47 → bin 3\n",
      "72 -12.016 → bin -11\n",
      "73 10.262 → bin 11\n",
      "74 4.7 → bin 5\n",
      "75 -6.759 → bin -5\n",
      "76 -0.877 → bin 1\n",
      "77 -0.833 → bin 1\n",
      "78 -7.508 → bin -6\n",
      "79 -7.317 → bin -6\n",
      "80 -1.023 → bin 0\n",
      "81 -11.377 → bin -10\n",
      "82 9.619 → bin 10\n",
      "83 7.257 → bin 8\n",
      "84 -5.389 → bin -4\n",
      "85 8.619 → bin 9\n",
      "86 -8.896 → bin -7\n",
      "87 -3.865 → bin -2\n",
      "88 -10.985 → bin -9\n",
      "89 -4.425 → bin -3\n",
      "90 7.95 → bin 8\n",
      "91 0.784 → bin 1\n",
      "92 1.431 → bin 2\n",
      "93 6.871 → bin 7\n",
      "94 -10.114 → bin -9\n",
      "95 -7.269 → bin -6\n",
      "96 -11.287 → bin -10\n",
      "97 -3.379 → bin -2\n",
      "98 9.248 → bin 10\n",
      "99 2.792 → bin 3\n",
      "100 -7.984 → bin -6\n",
      "101 -10.211 → bin -9\n",
      "102 -12.177 → bin -11\n",
      "103 -1.738 → bin 0\n",
      "104 2.763 → bin 3\n",
      "105 -4.047 → bin -3\n",
      "106 -11.092 → bin -10\n",
      "107 -2.838 → bin -1\n",
      "108 -4.567 → bin -3\n",
      "109 10.251 → bin 11\n",
      "110 -8.583 → bin -7\n",
      "111 -0.606 → bin 1\n",
      "112 0.275 → bin 1\n",
      "113 2.823 → bin 3\n",
      "114 -2.075 → bin -1\n",
      "115 5.183 → bin 6\n",
      "116 -8.88 → bin -7\n",
      "117 -4.249 → bin -3\n",
      "118 4.543 → bin 5\n",
      "119 1.737 → bin 2\n",
      "120 -1.983 → bin 0\n",
      "121 3.299 → bin 4\n",
      "122 6.8 → bin 7\n",
      "123 -9.69 → bin -8\n",
      "124 -9.273 → bin -8\n",
      "125 1.042 → bin 2\n",
      "126 -3.366 → bin -2\n",
      "127 -0.85 → bin 1\n",
      "128 -11.668 → bin -10\n",
      "129 3.635 → bin 4\n",
      "130 9.968 → bin 10\n",
      "131 6.121 → bin 7\n",
      "132 7.057 → bin 8\n",
      "133 9.045 → bin 10\n",
      "134 -6.982 → bin -5\n",
      "135 -3.934 → bin -2\n",
      "136 -1.045 → bin 0\n",
      "137 3.628 → bin 4\n",
      "138 5.048 → bin 6\n",
      "139 10.862 → bin 11\n",
      "140 -7.183 → bin -6\n",
      "141 6.746 → bin 7\n",
      "142 3.682 → bin 4\n",
      "143 -1.456 → bin 0\n",
      "144 5.825 → bin 6\n",
      "145 10.036 → bin 11\n",
      "146 10.002 → bin 11\n",
      "147 -10.891 → bin -9\n",
      "148 6.735 → bin 7\n",
      "149 -2.655 → bin -1\n",
      "150 -2.524 → bin -1\n",
      "151 -6.709 → bin -5\n",
      "152 2.562 → bin 3\n",
      "153 5.041 → bin 6\n",
      "154 -1.633 → bin 0\n",
      "155 -5.521 → bin -4\n",
      "156 -6.242 → bin -5\n",
      "157 9.356 → bin 10\n",
      "158 -6.822 → bin -5\n",
      "159 -9.39 → bin -8\n",
      "160 -4.662 → bin -3\n",
      "161 5.856 → bin 6\n",
      "162 0.795 → bin 1\n",
      "163 -3.758 → bin -2\n",
      "164 -4.465 → bin -3\n",
      "165 -4.207 → bin -3\n",
      "166 11.118 → bin 12\n",
      "167 -3.969 → bin -2\n",
      "168 6.465 → bin 7\n",
      "169 2.56 → bin 3\n",
      "170 8.477 → bin 9\n",
      "171 0.515 → bin 1\n",
      "172 -6.049 → bin -5\n",
      "173 -11.793 → bin -10\n",
      "174 -9.042 → bin -8\n",
      "175 -10.053 → bin -9\n",
      "176 -7.235 → bin -6\n",
      "177 -6.569 → bin -5\n",
      "178 5.655 → bin 6\n",
      "179 -1.466 → bin 0\n",
      "180 -9.406 → bin -8\n",
      "181 -5.361 → bin -4\n",
      "182 0.721 → bin 1\n",
      "183 1.774 → bin 2\n",
      "184 8.938 → bin 9\n",
      "185 -8.859 → bin -7\n",
      "186 5.853 → bin 6\n",
      "187 -1.998 → bin 0\n",
      "188 11.386 → bin 12\n",
      "189 -10.393 → bin -9\n",
      "190 8.064 → bin 9\n",
      "191 5.548 → bin 6\n",
      "192 6.62 → bin 7\n",
      "193 5.945 → bin 6\n",
      "194 0.589 → bin 1\n",
      "195 -2.976 → bin -1\n",
      "196 -10.957 → bin -9\n",
      "197 12.975 → bin 13\n",
      "198 12.028 → bin 13\n",
      "199 -1.604 → bin 0\n",
      "200 11.332 → bin 12\n",
      "201 5.213 → bin 6\n",
      "202 -10.913 → bin -9\n",
      "203 13.532 → bin 14\n",
      "204 -7.27 → bin -6\n",
      "205 11.41 → bin 12\n",
      "206 -8.428 → bin -7\n",
      "207 5.778 → bin 6\n",
      "208 -3.778 → bin -2\n",
      "209 8.716 → bin 9\n",
      "210 10.419 → bin 11\n",
      "211 10.202 → bin 11\n",
      "212 -7.917 → bin -6\n",
      "213 10.227 → bin 11\n",
      "214 0.755 → bin 1\n",
      "215 -10.309 → bin -9\n",
      "216 -10.863 → bin -9\n",
      "217 5.232 → bin 6\n",
      "218 -6.934 → bin -5\n",
      "219 -12.795 → bin -11\n",
      "220 -1.551 → bin 0\n",
      "221 8.321 → bin 9\n",
      "222 7.693 → bin 8\n",
      "223 3.624 → bin 4\n",
      "224 -7.674 → bin -6\n",
      "225 -4.515 → bin -3\n",
      "226 -6.697 → bin -5\n",
      "227 1.139 → bin 2\n",
      "228 -11.651 → bin -10\n",
      "229 -8.172 → bin -7\n",
      "230 -9.173 → bin -8\n",
      "231 2.799 → bin 3\n",
      "232 -10.265 → bin -9\n",
      "233 5.709 → bin 6\n",
      "234 11.989 → bin 12\n",
      "235 -0.989 → bin 1\n",
      "236 0.145 → bin 1\n",
      "237 1.788 → bin 2\n",
      "238 9.735 → bin 10\n",
      "239 -5.203 → bin -4\n",
      "240 -8.547 → bin -7\n",
      "241 -11.305 → bin -10\n",
      "242 -4.461 → bin -3\n",
      "243 -5.865 → bin -4\n",
      "244 10.422 → bin 11\n",
      "245 5.525 → bin 6\n",
      "246 -3.48 → bin -2\n",
      "247 -4.433 → bin -3\n",
      "248 -3.08 → bin -2\n",
      "249 3.694 → bin 4\n",
      "250 11.015 → bin 12\n",
      "251 -8.471 → bin -7\n",
      "252 5.835 → bin 6\n",
      "253 0.629 → bin 1\n",
      "254 12.098 → bin 13\n",
      "255 1.751 → bin 2\n",
      "256 11.408 → bin 12\n",
      "257 -7.168 → bin -6\n",
      "258 0.812 → bin 1\n",
      "259 -9.45 → bin -8\n",
      "260 -11.239 → bin -10\n",
      "261 -11.079 → bin -10\n",
      "262 10.903 → bin 11\n",
      "263 9.487 → bin 10\n",
      "264 4.044 → bin 5\n",
      "265 2.962 → bin 3\n",
      "266 -5.836 → bin -4\n",
      "267 -2.295 → bin -1\n",
      "268 -3.659 → bin -2\n",
      "269 -6.077 → bin -5\n",
      "270 -3.337 → bin -2\n",
      "271 10.891 → bin 11\n",
      "272 12.231 → bin 13\n",
      "273 9.695 → bin 10\n",
      "274 8.3 → bin 9\n",
      "275 -12.169 → bin -11\n",
      "276 -6.864 → bin -5\n",
      "277 9.97 → bin 10\n",
      "278 -10.488 → bin -9\n",
      "279 1.922 → bin 2\n",
      "280 -9.264 → bin -8\n",
      "281 8.975 → bin 9\n",
      "282 4.859 → bin 5\n",
      "283 -3.426 → bin -2\n",
      "284 -10.495 → bin -9\n",
      "285 8.207 → bin 9\n",
      "286 -7.797 → bin -6\n",
      "287 11.527 → bin 12\n",
      "288 -6.46 → bin -5\n",
      "289 -6.058 → bin -5\n",
      "290 -7.823 → bin -6\n",
      "291 -11.323 → bin -10\n",
      "292 5.105 → bin 6\n",
      "293 8.517 → bin 9\n",
      "294 -1.063 → bin 0\n",
      "295 5.413 → bin 6\n",
      "296 -8.947 → bin -7\n",
      "297 -12.469 → bin -11\n",
      "298 8.903 → bin 9\n",
      "299 -14.047 → bin -13\n",
      "300 3.159 → bin 4\n",
      "301 11.003 → bin 12\n",
      "302 -2.398 → bin -1\n",
      "303 5.101 → bin 6\n",
      "304 6.792 → bin 7\n",
      "305 -1.136 → bin 0\n",
      "306 12.411 → bin 13\n",
      "307 -2.829 → bin -1\n",
      "308 -3.51 → bin -2\n",
      "309 -9.61 → bin -8\n",
      "310 9.047 → bin 10\n",
      "311 -3.767 → bin -2\n",
      "312 -0.882 → bin 1\n",
      "313 3.388 → bin 4\n",
      "314 6.048 → bin 7\n",
      "315 -6.101 → bin -5\n",
      "316 1.235 → bin 2\n",
      "317 4.107 → bin 5\n",
      "318 10.706 → bin 11\n",
      "319 -4.376 → bin -3\n",
      "320 8.487 → bin 9\n",
      "321 -10.643 → bin -9\n",
      "322 5.518 → bin 6\n",
      "323 -11.587 → bin -10\n",
      "324 -3.612 → bin -2\n",
      "325 8.327 → bin 9\n",
      "326 6.446 → bin 7\n",
      "327 7.428 → bin 8\n",
      "328 8.424 → bin 9\n",
      "329 6.04 → bin 7\n",
      "330 8.294 → bin 9\n",
      "331 3.163 → bin 4\n",
      "332 8.925 → bin 9\n",
      "333 2.994 → bin 3\n",
      "334 -6.237 → bin -5\n",
      "335 -6.72 → bin -5\n",
      "336 -3.17 → bin -2\n",
      "337 8.739 → bin 9\n",
      "338 -10.189 → bin -9\n",
      "339 0.098 → bin 1\n",
      "340 2.268 → bin 3\n",
      "341 8.895 → bin 9\n",
      "342 8.762 → bin 9\n",
      "343 -7.776 → bin -6\n",
      "344 8.399 → bin 9\n",
      "345 -7.739 → bin -6\n",
      "346 -2.441 → bin -1\n",
      "347 1.888 → bin 2\n",
      "348 4.18 → bin 5\n",
      "349 6.364 → bin 7\n",
      "350 -5.881 → bin -4\n",
      "351 -11.64 → bin -10\n",
      "352 -0.218 → bin 1\n",
      "353 8.354 → bin 9\n",
      "354 9.267 → bin 10\n",
      "355 4.635 → bin 5\n",
      "356 4.663 → bin 5\n",
      "357 -1.894 → bin 0\n",
      "358 -9.805 → bin -8\n",
      "359 -4.052 → bin -3\n",
      "360 -5.123 → bin -4\n",
      "361 3.67 → bin 4\n",
      "362 -8.306 → bin -7\n",
      "363 -1.973 → bin 0\n",
      "364 1.294 → bin 2\n",
      "365 -1.519 → bin 0\n",
      "366 4.044 → bin 5\n",
      "367 7.116 → bin 8\n",
      "368 -0.383 → bin 1\n",
      "369 5.234 → bin 6\n",
      "370 0.371 → bin 1\n",
      "371 5.374 → bin 6\n",
      "372 -8.495 → bin -7\n",
      "373 -5.942 → bin -4\n",
      "374 -4.282 → bin -3\n",
      "375 9.397 → bin 10\n",
      "376 12.096 → bin 13\n",
      "377 -0.805 → bin 1\n",
      "378 -6.596 → bin -5\n",
      "379 -10.969 → bin -9\n",
      "380 -10.59 → bin -9\n",
      "381 -12.269 → bin -11\n",
      "382 9.816 → bin 10\n",
      "383 2.189 → bin 3\n",
      "384 -5.033 → bin -4\n",
      "385 -2.44 → bin -1\n",
      "386 -10.882 → bin -9\n",
      "387 -5.209 → bin -4\n",
      "388 -7.744 → bin -6\n",
      "389 10.18 → bin 11\n",
      "390 4.536 → bin 5\n",
      "391 1.582 → bin 2\n",
      "392 5.315 → bin 6\n",
      "393 -0.574 → bin 1\n",
      "394 3.688 → bin 4\n",
      "395 -9.87 → bin -8\n",
      "396 0.668 → bin 1\n",
      "397 8.263 → bin 9\n",
      "398 11.627 → bin 12\n",
      "399 -3.145 → bin -2\n",
      "400 0.093 → bin 1\n",
      "401 13.38 → bin 14\n",
      "402 11.689 → bin 12\n",
      "403 11.492 → bin 12\n",
      "404 1.646 → bin 2\n",
      "405 -3.579 → bin -2\n",
      "406 -0.378 → bin 1\n",
      "407 11.907 → bin 12\n",
      "408 7.041 → bin 8\n",
      "409 -6.579 → bin -5\n",
      "410 1.224 → bin 2\n",
      "411 3.258 → bin 4\n",
      "412 7.831 → bin 8\n",
      "413 -11.888 → bin -10\n",
      "414 12.163 → bin 13\n",
      "415 -9.564 → bin -8\n",
      "416 11.112 → bin 12\n",
      "417 -8.976 → bin -7\n",
      "418 1.476 → bin 2\n",
      "419 2.769 → bin 3\n",
      "420 -7.128 → bin -6\n",
      "421 6.27 → bin 7\n",
      "422 -0.83 → bin 1\n",
      "423 0.655 → bin 1\n",
      "424 -11.236 → bin -10\n",
      "425 11.49 → bin 12\n",
      "426 -8.749 → bin -7\n",
      "427 -3.493 → bin -2\n",
      "428 -8.248 → bin -7\n",
      "429 -6.805 → bin -5\n",
      "430 11.563 → bin 12\n",
      "431 -2.598 → bin -1\n",
      "432 -8.776 → bin -7\n",
      "433 8.038 → bin 9\n",
      "434 -5.446 → bin -4\n",
      "435 3.759 → bin 4\n",
      "436 2.646 → bin 3\n",
      "437 4.372 → bin 5\n",
      "438 6.625 → bin 7\n",
      "439 -2.057 → bin -1\n",
      "440 9.063 → bin 10\n",
      "441 2.715 → bin 3\n",
      "442 5.034 → bin 6\n",
      "443 13.044 → bin 14\n",
      "444 4.819 → bin 5\n",
      "445 -11.979 → bin -10\n",
      "446 11.784 → bin 12\n",
      "447 -9.761 → bin -8\n",
      "448 -9.946 → bin -8\n",
      "449 -6.72 → bin -5\n",
      "450 8.067 → bin 9\n",
      "451 -4.793 → bin -3\n",
      "452 -8.349 → bin -7\n",
      "453 -4.932 → bin -3\n",
      "454 7.997 → bin 8\n",
      "455 0.121 → bin 1\n",
      "456 -9.645 → bin -8\n",
      "457 9.405 → bin 10\n",
      "458 5.033 → bin 6\n",
      "459 11.117 → bin 12\n",
      "460 10.048 → bin 11\n",
      "461 -1.842 → bin 0\n",
      "462 0.145 → bin 1\n",
      "463 -1.982 → bin 0\n",
      "464 2.326 → bin 3\n",
      "465 5.09 → bin 6\n",
      "466 0.595 → bin 1\n",
      "467 6.901 → bin 7\n",
      "468 8.334 → bin 9\n",
      "469 7.385 → bin 8\n",
      "470 2.136 → bin 3\n",
      "471 -3.018 → bin -2\n",
      "472 -4.1 → bin -3\n",
      "473 3.865 → bin 4\n",
      "474 2.788 → bin 3\n",
      "475 9.91 → bin 10\n",
      "476 9.757 → bin 10\n",
      "477 10.669 → bin 11\n",
      "478 -1.891 → bin 0\n",
      "479 1.591 → bin 2\n",
      "480 12.199 → bin 13\n",
      "481 -9.336 → bin -8\n",
      "482 -6.587 → bin -5\n",
      "483 -13.444 → bin -12\n",
      "484 -0.008 → bin 1\n",
      "485 -11.36 → bin -10\n",
      "486 -9.412 → bin -8\n",
      "487 5.692 → bin 6\n",
      "488 11.507 → bin 12\n",
      "489 -4.557 → bin -3\n",
      "490 10.207 → bin 11\n",
      "491 0.836 → bin 1\n",
      "492 8.913 → bin 9\n",
      "493 -5.438 → bin -4\n",
      "494 -3.681 → bin -2\n",
      "495 -10.471 → bin -9\n",
      "496 11.583 → bin 12\n",
      "497 11.431 → bin 12\n",
      "498 -0.741 → bin 1\n",
      "499 -1.913 → bin 0\n",
      "500 -0.104 → bin 1\n",
      "501 5.98 → bin 6\n",
      "502 2.21 → bin 3\n",
      "503 -9.535 → bin -8\n",
      "504 -2.223 → bin -1\n",
      "505 -10.353 → bin -9\n",
      "506 6.257 → bin 7\n",
      "507 -11.062 → bin -10\n",
      "508 -14.467 → bin -13\n",
      "509 -4.104 → bin -3\n",
      "510 -1.794 → bin 0\n",
      "511 8.134 → bin 9\n"
     ]
    }
   ],
   "source": [
    "x = oxygen['x'].values      \n",
    "binwidth = 1.0\n",
    "max_val = x.max()\n",
    "\n",
    "for i in range(len(x)):     \n",
    "    bin_number = 1 + int(x[i] / binwidth)\n",
    "    print(i, x[i], f\"→ bin {bin_number}\")"
   ]
  },
  {
   "cell_type": "code",
   "execution_count": 73,
   "id": "133b00ff",
   "metadata": {},
   "outputs": [],
   "source": [
    "binwidth = 1.0\n",
    "bins = np.arange(oxygen['x'].min(), oxygen['x'].max() + binwidth, binwidth)"
   ]
  },
  {
   "cell_type": "code",
   "execution_count": 74,
   "id": "b9647c72",
   "metadata": {},
   "outputs": [],
   "source": [
    "oxygen['x_bin'] = pd.cut(oxygen['x'], bins)"
   ]
  },
  {
   "cell_type": "code",
   "execution_count": 75,
   "id": "ca13a806",
   "metadata": {},
   "outputs": [],
   "source": [
    "bin_counts = oxygen['x_bin'].value_counts().sort_index()"
   ]
  },
  {
   "cell_type": "code",
   "execution_count": 76,
   "id": "762b475d",
   "metadata": {},
   "outputs": [
    {
     "name": "stdout",
     "output_type": "stream",
     "text": [
      "(-14.467, -13.467] → 1 atoms\n",
      "(-13.467, -12.467] → 4 atoms\n",
      "(-12.467, -11.467] → 18 atoms\n",
      "(-11.467, -10.467] → 27 atoms\n",
      "(-10.467, -9.467] → 17 atoms\n",
      "(-9.467, -8.467] → 28 atoms\n",
      "(-8.467, -7.467] → 15 atoms\n",
      "(-7.467, -6.467] → 23 atoms\n",
      "(-6.467, -5.467] → 18 atoms\n",
      "(-5.467, -4.467] → 15 atoms\n",
      "(-4.467, -3.467] → 25 atoms\n",
      "(-3.467, -2.467] → 17 atoms\n",
      "(-2.467, -1.467] → 23 atoms\n",
      "(-1.467, -0.467] → 16 atoms\n",
      "(-0.467, 0.533] → 16 atoms\n",
      "(0.533, 1.533] → 21 atoms\n",
      "(1.533, 2.533] → 17 atoms\n",
      "(2.533, 3.533] → 18 atoms\n",
      "(3.533, 4.533] → 17 atoms\n",
      "(4.533, 5.533] → 25 atoms\n",
      "(5.533, 6.533] → 22 atoms\n",
      "(6.533, 7.533] → 16 atoms\n",
      "(7.533, 8.533] → 26 atoms\n",
      "(8.533, 9.533] → 20 atoms\n",
      "(9.533, 10.533] → 21 atoms\n",
      "(10.533, 11.533] → 23 atoms\n",
      "(11.533, 12.533] → 17 atoms\n",
      "(12.533, 13.533] → 5 atoms\n"
     ]
    }
   ],
   "source": [
    "for bin_range, count in bin_counts.items():\n",
    "    print(f\"{bin_range} → {count} atoms\")"
   ]
  },
  {
   "cell_type": "code",
   "execution_count": null,
   "id": "f44d76ac",
   "metadata": {},
   "outputs": [],
   "source": []
  }
 ],
 "metadata": {
  "kernelspec": {
   "display_name": "Python 3",
   "language": "python",
   "name": "python3"
  },
  "language_info": {
   "codemirror_mode": {
    "name": "ipython",
    "version": 3
   },
   "file_extension": ".py",
   "mimetype": "text/x-python",
   "name": "python",
   "nbconvert_exporter": "python",
   "pygments_lexer": "ipython3",
   "version": "3.11.9"
  }
 },
 "nbformat": 4,
 "nbformat_minor": 5
}
