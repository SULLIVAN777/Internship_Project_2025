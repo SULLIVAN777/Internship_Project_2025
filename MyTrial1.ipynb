{
 "cells": [
  {
   "cell_type": "code",
   "execution_count": 1,
   "id": "597735a1",
   "metadata": {},
   "outputs": [],
   "source": [
    "import numpy as np "
   ]
  },
  {
   "cell_type": "code",
   "execution_count": 3,
   "id": "610bea25",
   "metadata": {},
   "outputs": [],
   "source": [
    "x = np.random.random(10)"
   ]
  },
  {
   "cell_type": "code",
   "execution_count": 4,
   "id": "4d15239b",
   "metadata": {},
   "outputs": [
    {
     "data": {
      "text/plain": [
       "array([0.67666833, 0.81464958, 0.44012169, 0.12327638, 0.86099797,\n",
       "       0.84012951, 0.58563435, 0.31881861, 0.62177523, 0.99754369])"
      ]
     },
     "execution_count": 4,
     "metadata": {},
     "output_type": "execute_result"
    }
   ],
   "source": [
    "x"
   ]
  },
  {
   "cell_type": "code",
   "execution_count": 9,
   "id": "6d311561",
   "metadata": {},
   "outputs": [
    {
     "data": {
      "text/plain": [
       "3"
      ]
     },
     "execution_count": 9,
     "metadata": {},
     "output_type": "execute_result"
    }
   ],
   "source": [
    "binwidth=0.2\n",
    "int(x[0]/binwidth)\n"
   ]
  },
  {
   "cell_type": "code",
   "execution_count": 11,
   "id": "ba02714d",
   "metadata": {},
   "outputs": [
    {
     "name": "stdout",
     "output_type": "stream",
     "text": [
      "0 0.6766683294624077 4\n",
      "1 0.8146495798246068 5\n",
      "2 0.4401216944567856 3\n",
      "3 0.12327637985392914 1\n",
      "4 0.8609979721505194 5\n",
      "5 0.8401295121224122 5\n",
      "6 0.585634350119655 3\n",
      "7 0.3188186148141653 2\n",
      "8 0.6217752267216888 4\n",
      "9 0.9975436860470384 5\n"
     ]
    }
   ],
   "source": [
    "for i in range(10):\n",
    "    print(i, x[i], 1+int(x[i]/binwidth))"
   ]
  },
  {
   "cell_type": "code",
   "execution_count": null,
   "id": "86964267",
   "metadata": {},
   "outputs": [],
   "source": []
  }
 ],
 "metadata": {
  "kernelspec": {
   "display_name": "Python 3",
   "language": "python",
   "name": "python3"
  },
  "language_info": {
   "codemirror_mode": {
    "name": "ipython",
    "version": 3
   },
   "file_extension": ".py",
   "mimetype": "text/x-python",
   "name": "python",
   "nbconvert_exporter": "python",
   "pygments_lexer": "ipython3",
   "version": "3.11.9"
  }
 },
 "nbformat": 4,
 "nbformat_minor": 5
}
